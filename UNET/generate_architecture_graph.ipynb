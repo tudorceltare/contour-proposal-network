{
 "cells": [
  {
   "cell_type": "code",
   "execution_count": 10,
   "id": "initial_id",
   "metadata": {
    "collapsed": true,
    "ExecuteTime": {
     "end_time": "2023-09-03T18:58:20.063175Z",
     "start_time": "2023-09-03T18:58:20.059422Z"
    }
   },
   "outputs": [],
   "source": [
    "import torch\n",
    "from torchviz import make_dot, make_dot_from_trace\n",
    "from graphviz import Digraph\n",
    "from UNET.model import UNET, ResUNET"
   ]
  },
  {
   "cell_type": "code",
   "execution_count": 8,
   "outputs": [
    {
     "name": "stderr",
     "output_type": "stream",
     "text": [
      "/opt/anaconda3/envs/deeplearning/lib/python3.10/site-packages/torchvision/transforms/functional.py:1603: UserWarning: The default value of the antialias parameter of all the resizing transforms (Resize(), RandomResizedCrop(), etc.) will change from None to True in v0.17, in order to be consistent across the PIL and Tensor backends. To suppress this warning, directly pass antialias=True (recommended, future default), antialias=None (current default, which means False for Tensors and True for PIL), or antialias=False (only works on Tensors - PIL will still use antialiasing). This also applies if you are using the inference transforms from the models weights: update the call to weights.transforms(antialias=True).\n",
      "  warnings.warn(\n"
     ]
    }
   ],
   "source": [
    "# UNET model graph\n",
    "\n",
    "model = UNET(1, 1)\n",
    "x = torch.randn((1, 1, 520, 696))\n",
    "\n",
    "graph = make_dot(model(x), params=dict(model.named_parameters()))"
   ],
   "metadata": {
    "collapsed": false,
    "ExecuteTime": {
     "end_time": "2023-09-03T18:55:51.484698Z",
     "start_time": "2023-09-03T18:55:48.390150Z"
    }
   },
   "id": "7cf61d72ae5de137"
  },
  {
   "cell_type": "code",
   "execution_count": 9,
   "outputs": [
    {
     "ename": "AttributeError",
     "evalue": "can't set attribute 'source'",
     "output_type": "error",
     "traceback": [
      "\u001B[0;31m---------------------------------------------------------------------------\u001B[0m",
      "\u001B[0;31mAttributeError\u001B[0m                            Traceback (most recent call last)",
      "Cell \u001B[0;32mIn[9], line 1\u001B[0m\n\u001B[0;32m----> 1\u001B[0m graph\u001B[38;5;241m.\u001B[39msource \u001B[38;5;241m=\u001B[39m graph\u001B[38;5;241m.\u001B[39msource\u001B[38;5;241m.\u001B[39mreplace(\u001B[38;5;124m'\u001B[39m\u001B[38;5;124mAccumulateGrad -> \u001B[39m\u001B[38;5;124m'\u001B[39m, \u001B[38;5;124m'\u001B[39m\u001B[38;5;124m'\u001B[39m)\n\u001B[1;32m      2\u001B[0m graph\u001B[38;5;241m.\u001B[39mattr(dpi\u001B[38;5;241m=\u001B[39m\u001B[38;5;124m\"\u001B[39m\u001B[38;5;124m300\u001B[39m\u001B[38;5;124m\"\u001B[39m, rankdir\u001B[38;5;241m=\u001B[39m\u001B[38;5;124m\"\u001B[39m\u001B[38;5;124mLR\u001B[39m\u001B[38;5;124m\"\u001B[39m)\n\u001B[1;32m      3\u001B[0m graph\u001B[38;5;241m.\u001B[39mrender(\u001B[38;5;124m\"\u001B[39m\u001B[38;5;124mmodel_graph\u001B[39m\u001B[38;5;124m\"\u001B[39m, \u001B[38;5;28mformat\u001B[39m\u001B[38;5;241m=\u001B[39m\u001B[38;5;124m\"\u001B[39m\u001B[38;5;124mpng\u001B[39m\u001B[38;5;124m\"\u001B[39m)\n",
      "\u001B[0;31mAttributeError\u001B[0m: can't set attribute 'source'"
     ]
    }
   ],
   "source": [
    "graph.source = graph.source.replace('AccumulateGrad -> ', '')\n",
    "graph.attr(dpi=\"300\", rankdir=\"LR\")\n",
    "graph.render(\"model_graph\", format=\"png\")"
   ],
   "metadata": {
    "collapsed": false,
    "ExecuteTime": {
     "end_time": "2023-09-03T18:56:19.850270Z",
     "start_time": "2023-09-03T18:56:19.785029Z"
    }
   },
   "id": "c9ecb264d65e848"
  },
  {
   "cell_type": "code",
   "execution_count": 11,
   "outputs": [
    {
     "name": "stderr",
     "output_type": "stream",
     "text": [
      "dot: graph is too large for cairo-renderer bitmaps. Scaling by 0.351359 to fit\n"
     ]
    },
    {
     "data": {
      "text/plain": "'simplified_graph.png'"
     },
     "execution_count": 11,
     "metadata": {},
     "output_type": "execute_result"
    }
   ],
   "source": [
    "# Your model and input data\n",
    "model = UNET(1, 1)\n",
    "input_data = torch.randn((1, 1, 520, 696))\n",
    "\n",
    "# Forward pass\n",
    "output = model(input_data)\n",
    "\n",
    "# Generate the graph\n",
    "graph = make_dot(output, params=dict(model.named_parameters()))\n",
    "\n",
    "# Create a new Digraph to customize the graph structure\n",
    "simplified_graph = Digraph(format='png')\n",
    "simplified_graph.attr(dpi=\"300\", rankdir=\"LR\")  # Set the graph's attributes\n",
    "\n",
    "# Iterate through the nodes in the original graph\n",
    "for node in graph.body:\n",
    "    if \"->\" not in node:\n",
    "        # Add nodes that do not have arrows (e.g., input and output nodes)\n",
    "        simplified_graph.node(node.strip())\n",
    "    else:\n",
    "        # Add edges between nodes\n",
    "        simplified_graph.edge(*node.strip().split(\"->\"))\n",
    "\n",
    "# Save the simplified graph\n",
    "simplified_graph.render(\"simplified_graph\")"
   ],
   "metadata": {
    "collapsed": false,
    "ExecuteTime": {
     "end_time": "2023-09-03T18:58:28.724594Z",
     "start_time": "2023-09-03T18:58:24.206089Z"
    }
   },
   "id": "df992f3c1ea06a5d"
  },
  {
   "cell_type": "code",
   "execution_count": null,
   "outputs": [],
   "source": [],
   "metadata": {
    "collapsed": false
   },
   "id": "6df178e64a5ca19d"
  }
 ],
 "metadata": {
  "kernelspec": {
   "display_name": "Python 3",
   "language": "python",
   "name": "python3"
  },
  "language_info": {
   "codemirror_mode": {
    "name": "ipython",
    "version": 2
   },
   "file_extension": ".py",
   "mimetype": "text/x-python",
   "name": "python",
   "nbconvert_exporter": "python",
   "pygments_lexer": "ipython2",
   "version": "2.7.6"
  }
 },
 "nbformat": 4,
 "nbformat_minor": 5
}
